{
  "nbformat": 4,
  "nbformat_minor": 0,
  "metadata": {
    "colab": {
      "provenance": []
    },
    "kernelspec": {
      "name": "python3",
      "display_name": "Python 3"
    },
    "language_info": {
      "name": "python"
    }
  },
  "cells": [
    {
      "cell_type": "markdown",
      "source": [
        "#네이버 API활용 도서 검색/기록 코드"
      ],
      "metadata": {
        "id": "v9J4oDKN4Dma"
      }
    },
    {
      "cell_type": "markdown",
      "source": [
        "도서 기록\n",
        "1. 제목 검색 입력\n",
        "2. 네이버 API 검색결과 파싱\n"
      ],
      "metadata": {
        "id": "TZ1mO_pfCJxc"
      }
    },
    {
      "cell_type": "code",
      "source": [
        "import requests\n",
        "import urllib.parse\n",
        "from bs4 import BeautifulSoup\n",
        "import pandas as pd\n",
        "import csv\n",
        "\n",
        "#네이버 API 활용을 위한 ID, 비밀번호\n",
        "client_ID = \"uJUq5VpE1of93TclleEn\"\n",
        "client_Secret = \"sbkTUgIxL6\"\n",
        "\n",
        "#검색 쿼리\n",
        "#query = \"9791186463628\"\n",
        "query = str(input(\"검색 : \"))\n",
        "encoded_query = urllib.parse.quote(query) #utf-8로 인코딩\n",
        "\n",
        "#API request후 soup로 받기\n",
        "url = f\"https://openapi.naver.com/v1/search/book.xml?query={encoded_query}&display=10&start=1\"\n",
        "#url = f\"https://openapi.naver.com/v1/search/book_adv.xml?d_isbn={encoded_query}&display=10&start=1\"\n",
        "headers = {\n",
        "    \"X-Naver-Client-Id\": client_ID,\n",
        "    \"X-Naver-Client-Secret\": client_Secret\n",
        "}\n",
        "response = requests.get(url, headers=headers)\n",
        "soup = BeautifulSoup(response.content, 'xml')\n",
        "\n"
      ],
      "metadata": {
        "colab": {
          "base_uri": "https://localhost:8080/"
        },
        "id": "ZyP7j1mQovy1",
        "outputId": "ed5bf76a-0e10-469c-f774-85863c39767d"
      },
      "execution_count": 104,
      "outputs": [
        {
          "name": "stdout",
          "output_type": "stream",
          "text": [
            "검색 : 아이스\n"
          ]
        }
      ]
    },
    {
      "cell_type": "markdown",
      "source": [
        "3. 검색결과 띄우기\n",
        "4. 몇 번째를 기록하길 원하는지 선택"
      ],
      "metadata": {
        "id": "vR9bMZEIHfSd"
      }
    },
    {
      "cell_type": "code",
      "source": [
        "search_result = soup.find_all('title')\n",
        "res = [title.text for title in search_result]\n",
        "\n",
        "print(\"검색 결과\")\n",
        "for i in range(0, len(res)):\n",
        "  print(f\"{i} : {res[i]}\")\n",
        "\n",
        "num = int(input(\"선택\"))"
      ],
      "metadata": {
        "colab": {
          "base_uri": "https://localhost:8080/"
        },
        "id": "ktppIxooEiDo",
        "outputId": "fe95ffb0-c9dc-4511-b9ff-0f3f56330854"
      },
      "execution_count": 105,
      "outputs": [
        {
          "name": "stdout",
          "output_type": "stream",
          "text": [
            "검색 결과\n",
            "0 : Naver Open API - book ::'아이스'\n",
            "1 : 아이스\n",
            "2 : 리얼 공룡: 육식공룡 만들기 8종\n",
            "3 : 리얼 공룡: 초식공룡 만들기 8종\n",
            "4 : 블랙 아이스 (이수안 장편소설)\n",
            "5 : 블랙 아이스\n",
            "6 : 5세 아장아장 한글 수학 월간 2호 워크북 세트\n",
            "7 : 엄마보다 잘 그리기 : 새와 물고기 (스프링) (정말 쉽고 재미있는 크로키와 드로잉을 동시에!, 초급.중금.고급의 3단계 난이도 구성)\n",
            "8 : 아이스\n",
            "9 : 6세 똘망똘망 한글 수학 월간 2호 워크북 세트\n",
            "10 : 7세 성큼성큼 한글 수학 월간 2호 워크북 세트\n",
            "선택8\n"
          ]
        }
      ]
    },
    {
      "cell_type": "markdown",
      "source": [
        "5. 네이버 API 이용해 선택한 책 상세검색\n",
        "6. csv 파일에 기록 저장 (책 이름, 저자, 장르, isbn, 책 소개 순서)"
      ],
      "metadata": {
        "id": "7DpBeCvREAXS"
      }
    },
    {
      "cell_type": "code",
      "source": [
        "query = res[num]\n",
        "encoded_query = urllib.parse.quote(query) #utf-8로 인코딩\n",
        "\n",
        "url = f\"https://openapi.naver.com/v1/search/book_adv.xml?d_titl={encoded_query}&display=10&start=1\"\n",
        "headers = {\n",
        "    \"X-Naver-Client-Id\": client_ID,\n",
        "    \"X-Naver-Client-Secret\": client_Secret\n",
        "}\n",
        "response = requests.get(url, headers=headers)\n",
        "soup = BeautifulSoup(response.content, 'xml')\n",
        "\n",
        "\n",
        "if response.status_code == 200:\n",
        "  print(soup)\n",
        "  print(\"\\n\\n\\n\")\n",
        "\n",
        "  #책 정보 얻어와 csv로 저장\n",
        "  title = soup.find_all('title')\n",
        "  title = title[1].text\n",
        "\n",
        "  author = soup.find_all('author')\n",
        "  author = author[0].text\n",
        "\n",
        "  genre = \"네이버 API\"\n",
        "\n",
        "  isbn = soup.find_all('isbn')\n",
        "  isbn = isbn[0].text\n",
        "\n",
        "  description = soup.find_all('description')\n",
        "  description = description[1].text\n",
        "\n",
        "  result = [title,author,genre,isbn,description]\n",
        "  print(result)\n",
        "\n",
        "  with open('record.csv', 'a', newline = '', encoding='cp949') as f:\n",
        "    writer = csv.writer(f)\n",
        "    writer.writerow(result)\n",
        "  f.close()\n",
        "\n",
        "else:\n",
        "    print(\"Error:\", response.status_code)\n"
      ],
      "metadata": {
        "colab": {
          "base_uri": "https://localhost:8080/"
        },
        "id": "Wo0Al0s2D_yK",
        "outputId": "f625476c-5350-4cd8-c002-368391e6afa8"
      },
      "execution_count": 106,
      "outputs": [
        {
          "output_type": "stream",
          "name": "stdout",
          "text": [
            "<?xml version=\"1.0\" encoding=\"utf-8\"?>\n",
            "<rss version=\"2.0\"><channel><title>Naver Open API - book_adv ::''</title><link>https://search.naver.com</link><description>Naver Search Result</description><lastBuildDate>Sun, 15 Sep 2024 18:59:43 +0900</lastBuildDate><total>86</total><start>1</start><display>10</display><item><title>아이스</title><link>https://search.shopping.naver.com/book/catalog/37741584624</link><image>https://shopping-phinf.pstatic.net/main_3774158/37741584624.20230328163356.jpg</image><author>애나 캐번</author><discount>16200</discount><publisher>민음사</publisher><pubdate>20230203</pubdate><isbn>9788937427572</isbn><description>무라카미 하루키, 폴 오스터가 선보인 슬립스트림 문학의 절정을 \n",
            "성취한 작가 애나 캐번의 최고 걸작\n",
            " \n",
            "어슐러 르 귄, 커트 보니것, J. G. 밸러드, 차이나 미에빌을 사로잡은 \n",
            "20세기 디스토피아 소설의 정전(正典)!</description></item><item><title>블랙 아이스 (이수안 장편소설)</title><link>https://search.shopping.naver.com/book/catalog/44679763627</link><image>https://shopping-phinf.pstatic.net/main_4467976/44679763627.20231217070857.jpg</image><author>이수안</author><discount>15120</discount><publisher>문학동네</publisher><pubdate>20231218</pubdate><isbn>9788954696593</isbn><description>출입이 통제된 미개통 도로에서\n",
            "한 사람이 의식불명 상태로 발견된다\n",
            "\n",
            "의문의 사건에 휘말려 위독해진 기업 총수의 자제,\n",
            "그가 감춰둔 단서를 조합해\n",
            "거액이 든 금고의 패스워드를 찾아라!\n",
            "사건의 진범과 검은돈 200억원을 쫓으며 펼쳐지는\n",
            "레이싱 미스터리 추격극!\n",
            "\n",
            "정체성에 대한 깊은 고민에서 출발해 마법과도 같은 자기 내면의 힘을 인식하게 되는 이야기를 선보여온 소설가 이수안의 두번째 장편소설 『블랙 아이스』가 출간되었다. 2019년 김유정신인문학상을 수상하며 데뷔할 당시 “슬픔과 고통을 대범하게 끌어안는 성숙성, 세상과 인간에 대한 따뜻한 긍정이 깊은 여운으로 남는다”는 찬사를 받은 바 있는 작가는 2021년 첫 장편소설 『시커의 영역』으로 제4회 자음과모음 경장편소설상을 수상하며 다시 한번 주목받았다. 초자연적인 소재와 흥미로운 세계관, 생동감 넘치는 인물을 통해 “좋은 장편소설”의 요소를 두루 갖췄다는 평을 받으며, 작가 이수안은 스토리텔러로서 새로운 궤적을 그려 보였다.\n",
            "『블랙 아이스』는 첫 장편 『시커의 영역』과는 사뭇 다른 분위기를 강렬하게 내뿜는 미스터리 소설로, 다양한 서사를 솜씨 있게 부려내는 이수안의 저력을 엿볼 수 있는 작품이다. 소설은 출입이 금지된 미개통 도로에서 한 사람이 의식불명 상태로 발견되면서 시작된다. 쓰러져 있던 사람은 건설 회사 회장 김상진의 자제 김유영. 유영은 김회장이 가장 아끼는 자식이자 김회장이 세탁한 검은돈 200억원을 인출하는 데 필요한 패스워드를 알고 있는 유일한 인물이다. 유영이 발견되기 직전 그 도로를 통과한 슈퍼카들이 있다는 것을 알게 된 김회장은 자동차에 일가견이 있는 측근들을 불러모아 유영이 휘말린 사건을 해결하고 패스워드를 되찾아줄 것을 의뢰한다. 유영을 해한 범인과 검은돈 200억원을 쫓으며 소설은 등장인물들 각각의 결핍과 욕망에 다가서고, 이들의 이야기가 풀려나가며 사건의 전말이 점점 모습을 드러내기 시작한다. 이수안이 발표하는 첫 미스터리임을 믿기 어려울 만큼 몰입감 넘치는 전개가 특징인 이 작품은, 화려한 스포츠카 레이싱과 함께 진정한 꿈을 가진 이들과 끝없는 탐욕을 가진 이들이 각각 어떤 삶을 향해 나아가는지 박진감 넘치는 필체로 펼쳐 보인다.</description></item><item><title>블랙 아이스</title><link>https://search.shopping.naver.com/book/catalog/32503496150</link><image>https://shopping-phinf.pstatic.net/main_3250349/32503496150.20221019110402.jpg</image><author>마이클코넬리</author><discount>10800</discount><publisher>알에이치코리아</publisher><pubdate>20150130</pubdate><isbn>9788925555201</isbn><description>크라임 스릴러의 마스터 마이클 코넬리가 창조한 이 시대 가장 걸출한 경찰 소설 「해리 보슈 시리즈」 제 2권 『블랙 아이스(THE BLACK ICE)』. 신종마약 혹은 눈앞에 닥친 위협을 뜻하는 ‘블랙 아이스’ 죽기 전 만났던 마약수사팀 형사에겐 뭔가 특별한 것이 있었다. 할리우드 경찰서 살인전담팀 형사 해리 보슈는 모텔에서 발생한 자살 추정 사건현장에 출동한다. 산탄총으로 머리를 날린 사체는 바로 몇 주 전 실종된 마약수사팀 형사 칼렉시코 무어로 밝혀지고, 그의 뒷주머니에서는 “나는 내가 누군지 알게 되었다”라는 짤막한 유서도 발견된다. 정황증거상 무어의 자실임이 유력시되는 가운데, 보슈는 마약상 살인사건과 신종마약 ‘블랙 아이스’에 대한 자문을 구하고자 몇 주 전 그를 만났던 기억을 떠올리는데...</description></item><item><title>아이스</title><link>https://search.shopping.naver.com/book/catalog/32466688145</link><image>https://shopping-phinf.pstatic.net/main_3246668/32466688145.20220527062329.jpg</image><author>에드 멕베인</author><discount>13050</discount><publisher>검은숲</publisher><pubdate>20130206</pubdate><isbn>9788952767929</isbn><description>경찰 소설의 전설 「87분서 시리즈」의 최고작!\n",
            "\n",
            "현대 경찰 소설의 틀을 확립한 작가 에드 맥베인의 소설 『아이스』. 가상의 도시 아이솔라를 배경으로, 개인이 아닌 다양한 형사들로 이루어진 팀을 주인공으로 내세운 「87분서 시리즈」의 최고작이다. 시리즈 초반부의 재기발랄함과 중기 특유의 원숙함이 함께 녹아 있으며, 87분서 형사들 각각의 개성도 엿볼 수 있다. 1996년 NBC에서 스페셜 드라마로 제작되기도 했다.\n",
            "\n",
            "흥행 뮤지컬에 출연 중인 무용수가 잔인하게 총을 맞아 사망한 사건. 그녀를 죽인 총은 며칠 전 삼류 마약 판매상을 죽인 총이었고, 며칠 후 보석상의 생명도 빼앗아간다. 세 건의 살인 사건과 한 자루의 38구경 권총. 아이솔라에서 가장 위험한 구역을 담당하는 87분서 형사들은 이 사건들의 연관성과 그녀가 손을 댔다는 ‘아이스’의 정체를 추적하는데….</description></item><item><title>블랙 아이스 (판타스틱 픽션 블랙 BLACK 3-2)</title><link>https://search.shopping.naver.com/book/catalog/32466961615</link><image>https://shopping-phinf.pstatic.net/main_3246696/32466961615.20220530153944.jpg</image><author>마이클코넬리</author><discount>0</discount><publisher>랜덤하우스</publisher><pubdate>20101029</pubdate><isbn>9788925540573</isbn><description>크라임 스릴러의 거장 마이클 코넬리의 히트 시리즈 두 번째 이야기\n",
            "\n",
            "절망의 도시를 지키는 아웃사이더 형사「해리 보슈」시리즈 제2편『블랙 아이스』. 크라임 스릴러의 거장 마이클 코넬리의 히트 시리즈로, 전작인 가 매력적인 하드보일드 형사 해리 보슈의 탄생기를 담고 있었다면, 이번 작품에서는 한층 더 깊이 있는 캐릭터 묘사와 긴장감 넘치는 구성을 선보인다. 책의 제목이기도 한 '블랙 아이스'는 멕시코 산 신종마약을 뜻하는 용어로, 여기서는 눈앞에 닥친 보이지 않는 위협을 뜻하기도 한다. 범죄에 대한 통찰력, 과거에 대한 애수, 정의와 악의 모호한 경계에서 갈등하는 형사 해리 보슈의 이야기가 생생하게 펼쳐진다.</description></item><item><title>아이스바 탑쌓기</title><link>https://search.shopping.naver.com/book/catalog/35604380640</link><image>https://shopping-phinf.pstatic.net/main_3560438/35604380640.20231119070916.jpg</image><author>유선미^정하나^강향운^박지수</author><discount>26460</discount><publisher>인싸이트</publisher><pubdate>20221101</pubdate><isbn>8809507023756</isbn><description>다양한 문제상황에 대하여 문제해결 방법을 직접 제시해봄으로써 문제해결전략을 배울 수 있는 게임입니다. \n",
            "\n",
            "세트 구성:\t사용 설명서 1부, 얼음지붕 카드 50장, 아이스바 카드 30장, 주사위 스티커 1장, 빈 주사위 1개, 게임말 도안 4장, 게임말 홀더 4개, 아이스바 메모지 1부, 카드 케이스 1개 (110*110*65mm)</description></item><item><title>아이스께끼 (박영녀 시집)</title><link>https://search.shopping.naver.com/book/catalog/32485895587</link><image>https://shopping-phinf.pstatic.net/main_3248589/32485895587.20221228073324.jpg</image><author>박영녀</author><discount>9000</discount><publisher>한국문연</publisher><pubdate>20191205</pubdate><isbn>9788961042536</isbn><description>현대시 기획선 26권. ‘아이스께끼’에 대한 기억을 중심으로 할머니에 대한 그리움을 형상화하는 시인의 시작 태도는 그만큼 순수한 기억을 시화하고자 하는 것이다. 이 시인에게 가장 깊은 애착의 대상은 이 시집을 통해 볼 때 어머니라고 생각되는데, 어머니에 대한 기억도 음식을 중심으로 형상화되고 있다.</description></item><item><title>아이스링크 (로베르토 볼라뇨 장편소설)</title><link>https://search.shopping.naver.com/book/catalog/32466554232</link><image>https://shopping-phinf.pstatic.net/main_3246655/32466554232.20221019105535.jpg</image><author>로베르토 볼라뇨</author><discount>12420</discount><publisher>열린책들</publisher><pubdate>20140515</pubdate><isbn>9788932916552</isbn><description>로베르토 볼라뇨의 장편 소설 『아이스링크』. 제목에서와 같이 아이스링크에서 벌어지는 이야기를 담은 소설이다.  벤빈구트 저택에 남몰래 지어진 아이스링크. 찌는 듯 더운 카탈루냐의 소도시 Z와 상반되는 아이스링크의 냉기. 피겨 스케이팅 선수인 누리아 마르티만을 위해 지어진 이곳은 현실과 동떨어진 비밀의 공간이다. 그곳에서 발견된 하나의 시체를 둘러싼 세 명의 인물은 각기 다른 주장을 하고 사건은 풀릴 기미가 보이지 않는다.</description></item><item><title>아이스브레이커 (소그룹 인도, 더 이상 고민할 필요가 없다!)</title><link>https://search.shopping.naver.com/book/catalog/32507216763</link><image>https://shopping-phinf.pstatic.net/main_3250721/32507216763.20221019120658.jpg</image><author>정진우(폴 정)</author><discount>5850</discount><publisher>NCD</publisher><pubdate>20140718</pubdate><isbn>9788957881323</isbn><description>소그룹 인도에 대해 고민하지 말라!\n",
            "\n",
            "(주)아시아코치센터 설립자 정진우의 『소그룹을 살리는 아이스브레이커』. 현장에서 바로 사용이 가능한 소그룹 안내서다. 소그룹의 친밀감 형성은 물론, 영적 성장에 도움을 줄 수 있는 질문을 6단계로 나누어 담아냈다. 질문마다 설명을 덧붙여 상황에 맞게 활용할 수 있도록 도와준다.\n",
            "\n",
            "아울러 '관련 질문'뿐 아니라, '내가 만드는 질문'을 실었다. 리더가 직접 쓸 수 있다. 서먹하지 않고 활동적이고 친질한 소그룹을 만들어 팀원들을 이해하고 섬기고자 리더의 고민을 해결해준다.</description></item><item><title>아이스 보트</title><link>https://search.shopping.naver.com/book/catalog/32559385814</link><image>https://shopping-phinf.pstatic.net/main_3255938/32559385814.20221228073109.jpg</image><author>센우</author><discount>13500</discount><publisher>비룡소</publisher><pubdate>20161205</pubdate><isbn>9788949112701</isbn><description>《안녕, 폴》의 작가 센우가 전하는 지구 온난화에 대한 강하고도 아름다운 이야기 『아이스 보트』. 전작이 남극 펭귄들과 오염된 환경에 관한 이야기였다면 이번에는 북극곰과 지구 온난화에 대한 이야기이다. 인간의 무분별한 욕심과 이기심이 지구의 환경과 생명체에 얼마나 잔인한 영향을 미쳤는지 환상적이고도 강한 이미지로 보여 준다. \n",
            "\n",
            "태오는 어느 날, 쓰러져 있는 아기 북극곰 아풋을 데리고 온다. 다행히 할아버지와 태오의 정성으로 아풋은 회복하지만 엄마도, 살 곳도 찾지 못한 상태이다. 얼음을 만들어 아이스 보트에 싣고 띄우며 지구의 온난화를 막아 온 이누이트들. 하지만 빠르게 녹아내리는 얼음 때문에 더는 방법을 찾지 못한다. 이에 ‘녹지 않는 얼음’을 만들 수 있는 오로라를 찾아 태오와 아풋은 떠나게 되고 험난한 모험 끝에 고래 무덤에서 오로라를 찾아 가지고 온다. 한편 아기 곰 아풋을 찾으러 온 북극 기지 대장과 대원은 돈을 벌 욕심에 오로라를 훔치기로 하지만, 고래 무덤에서 몰래 태오의 주머니에 숨어 온 요정은 눈부신 오로라를 뿜어내 대장과 대원들을 물리친다. 이제는 마음껏 오로라를 넣어 녹지 않는 얼음을 만들게 된 이누이트들. 이들은 지구 온난화로부터 북극을 지켜 내고 아풋에게 엄마와 살 곳을 찾아줄 수 있을까. 마지막 장면에서 투명한 엄마 곰의 모습은 독자로 하여금 여러 상상을 할 수 있게 열어 둔 채 끝을 맺는다.</description></item></channel></rss>\n",
            "\n",
            "\n",
            "\n",
            "\n",
            "['아이스', '애나 캐번', '네이버 API', '9788937427572', '무라카미 하루키, 폴 오스터가 선보인 슬립스트림 문학의 절정을 \\n성취한 작가 애나 캐번의 최고 걸작\\n \\n어슐러 르 귄, 커트 보니것, J. G. 밸러드, 차이나 미에빌을 사로잡은 \\n20세기 디스토피아 소설의 정전(正典)!']\n"
          ]
        }
      ]
    },
    {
      "cell_type": "code",
      "source": [
        "soup"
      ],
      "metadata": {
        "colab": {
          "base_uri": "https://localhost:8080/"
        },
        "id": "wQRqjWQsDGkW",
        "outputId": "19e7a1e0-3dc4-4edb-f3e1-19f91f17d6d6"
      },
      "execution_count": 76,
      "outputs": [
        {
          "output_type": "execute_result",
          "data": {
            "text/plain": [
              "<?xml version=\"1.0\" encoding=\"utf-8\"?>\n",
              "<rss version=\"2.0\"><channel><title>Naver Open API - book ::'책'</title><link>https://search.naver.com</link><description>Naver Search Result</description><lastBuildDate>Sun, 15 Sep 2024 18:38:49 +0900</lastBuildDate><total>39798</total><start>1</start><display>10</display><item><title>깜짝깜짝 팝업북 : 바다</title><link>https://search.shopping.naver.com/book/catalog/49892504629</link><image>https://shopping-phinf.pstatic.net/main_4989250/49892504629.20240822070944.jpg</image><author>리지 코프</author><discount>13500</discount><publisher>어스본코리아</publisher><pubdate>20240822</pubdate><isbn>9791171200177</isbn><description>책장을 열면 바닷속 세계가 활짝!\n",
              "책 읽기의 즐거움과 호기심, 인지력을 길러 주세요!\n",
              "\n",
              "책장을 열면 맑은 바닷속 풍경이 펼쳐져요! 커다란 가오리가 모래 바닥으로 스윽 내려가고, 울창한 켈프 숲속에서 대왕문어가 긴 다리를 꿈틀거리고, 은빛 물고기 떼 사이로 뱀상어가 불쑥 나타나요. 밤처럼 깜깜한 심해에서는 심해아귀가 반짝반짝 빛을 내고, 수면에서는 고래가 슈우욱 물기둥을 뿜지요. 넓고 깊은 바다에서 살아가는 바다 생물들의 모습을 생생하게 살펴보세요. 다양한 동식물의 특징과 생태를 엿볼 수 있답니다!</description></item><item><title>캐치! 티니핑 사랑의 하츄핑 스티커 색칠놀이</title><link>https://search.shopping.naver.com/book/catalog/49083116622</link><image>https://shopping-phinf.pstatic.net/main_4908311/49083116622.20240712082829.jpg</image><author>학산문화사 편집부</author><discount>7130</discount><publisher>학산문화사(단행본)</publisher><pubdate>20240724</pubdate><isbn>9791141143343</isbn><description>처음 본 순간, 한눈에 반해버렸어!\n",
              "설레는 운명이 시작된 우리의 첫 만남!\n",
              "\n",
              "10번째 생일을 맞이하기 전까지 ‘짝꿍 티니핑’을 찾아야 하는 이모션 왕국의 공주 ‘로미’\n",
              "우연한 기회에 ‘하츄핑’을 처음 본 뒤, 운명의 인연임을 알아본다.\n",
              "‘로미’는 ‘하츄핑’을 찾기 위해 반대를 무릅쓰고 새로운 길을 떠나지만,\n",
              "마침내 만나게 된 ‘하츄핑’은 인간과의 소통을 거부하는데…\n",
              "\n",
              "로미는 하츄핑과 짝꿍이 될 수 있을까?\n",
              "로미와 하츄핑의 흥미진진한 이야기가 지금부터 시작된다.</description></item><item><title>코믹 블루록 26</title><link>https://search.shopping.naver.com/book/catalog/49576614619</link><image>https://shopping-phinf.pstatic.net/main_4957661/49576614619.20240803072629.jpg</image><author>노무라 유스케 지음, 카네시로 무네유키 원작</author><discount>5350</discount><publisher>학산문화사</publisher><pubdate>20240825</pubdate><isbn>9791141129170</isbn><description>시소게임이 펼쳐지는 유버스전! 치열하게 달아오르는 세계 수준의 \"듀얼\"!\n",
              "\n",
              "카이저 임팩트가 작렬하며 재차 독일이 리드를 차지하는 \"신 영웅대전\" 5차전. 치열한 접전이 펼쳐지는 필드에 드디어 마스터도 참전! \"크라운 메신저\"에 걸맞은 면모를 마음껏 발휘하는 스너피에게 이사기의 \"메타 비전\"은 과연 통할 것인가? 그리고 약동하는 이사기의 모습에서 \"빛\"을 본 벤치의 히오리는-. 바로와 카이저도 두 번째 득점에 잔뜩 굶주린 궁극의 \"서바이벌\"에서 마침내 판명되는 스트라이커의 진가!! \n",
              "\n",
              "발상, 노력, 센스,육체, 전술, 연계. 스트라이커여, 골이라는 결과가 없다면 아무런 가치도 없다!!</description></item><item><title>디즈니 픽사 인사이드 아웃 2 (무비동화)</title><link>https://search.shopping.naver.com/book/catalog/48251784629</link><image>https://shopping-phinf.pstatic.net/main_4825178/48251784629.20240718105045.jpg</image><author>에린 팰리갠트</author><discount>10700</discount><publisher>애플비북스</publisher><pubdate>20240615</pubdate><isbn>9791171180219</isbn><description>사춘기 알람과 함께 새로운 감정들이 찾아왔다!\n",
              "\n",
              "라일리의 머릿속에는 핵심 감정인, 기쁨이, 슬픔이, 까칠이, 버럭이, 소심이가 있습니다. 어느 날, 사춘기 알람이 시끄럽게 울리기 시작하고, 새로운 감정인 불안이, 당황이, 부럽이, 따분이가 들어섭니다. 고등학교 입학이라는 변화를 앞두고 일어날 수 있는 최악의 상황을 1~100까지 모두 예상하고 대비하려는 불안이! 하지만 기쁨이는 라일리의 본모습을 지키기 위해 불안이를 막아서게 되는데요. 오히려 핵심 감정들이 불안이에 의해 마음속 본부에서 쫓겨나고 맙니다. 불안에 휩싸여 기쁨을 잃어버린 라일리의 본모습을 되찾고 행복을 지키기 위해 다시 본부로 돌아가려는 핵심 감정들의 대모험을 무비 동화로 함께 만나 보세요.</description></item><item><title>망각 배터리 14</title><link>https://search.shopping.naver.com/book/catalog/50240750632</link><image>https://shopping-phinf.pstatic.net/main_5024075/50240750632.20240909165250.jpg</image><author>Eko Mikawa</author><discount>5400</discount><publisher>서울미디어코믹스(서울문화사)</publisher><pubdate>20240910</pubdate><isbn>9791136792013</isbn><description>일본 현지, 애니메이션 제작 결정!!!\n",
              "청춘과 웃음, 그리고 열정으로 가득한 고교 야구 만화!!\n",
              "\n",
              "■ 줄거리\n",
              "\n",
              "지장 카나메의 제안으로\n",
              "갑자기 성사된 신입생 대 상급생의 홍백전! \n",
              "타키, 히노모토가 결과를 남기는 와중, \n",
              "초짜일 거라 생각한 3학년 스즈키에게 완봉당한 \n",
              "신입생 사루카와는 자신의 나약함과 마주하는 \n",
              "계기가 되어 마음을 새로 먹는다. \n",
              "카나메의 계략대로 팀이 더욱 단단하게 뭉친 \n",
              "신생 코테사시, 시동!</description></item><item><title>MF 고스트 18</title><link>https://search.shopping.naver.com/book/catalog/50174067628</link><image>https://shopping-phinf.pstatic.net/main_5017406/50174067628.20240906071122.jpg</image><author>시게노 슈이치</author><discount>5400</discount><publisher>학산문화사</publisher><pubdate>20240906</pubdate><isbn>9791141123796</isbn><description>카타키리 카나타, 19세. MFG에 도전하다! 서력 202X년. 자동차 자동운전이 보급된 일본. 그런 시대에 공도 자동차 레이스가 개최되고 있었다. 전세계에서 인기 돌풍을 일으킨 이 레이스의 이름은 「MFG」. 포르쉐, 페라리, 람보르기니 등 최속을 자랑하는 머신이 차례차례 참전했다.</description></item><item><title>메달리스트 10</title><link>https://search.shopping.naver.com/book/catalog/50174068621</link><image>https://shopping-phinf.pstatic.net/main_5017406/50174068621.20240906071126.jpg</image><author>TSURUMAIKADA</author><discount>5400</discount><publisher>학산문화사</publisher><pubdate>20240906</pubdate><isbn>9791141138271</isbn><description/></item><item><title>인간 불평등 기원론(리커버)</title><link>https://search.shopping.naver.com/book/catalog/32466506497</link><image>https://shopping-phinf.pstatic.net/main_3246650/32466506497.20230926085317.jpg</image><author>장 자크 루소</author><discount>8910</discount><publisher>책세상</publisher><pubdate>20180430</pubdate><isbn>9791159312311</isbn><description>평등하게 태어난 인간은 부와 학벌, 권력 따위에 의해 평가받는다. 인간은 과연 평등한 것일까? 루소는 인간의 평등과 불평등의 문제를 시초에서부터 검토한다. \n",
              "자연상태에서 평등했던 인간이 어떻게 불평등하게 되었으며, 그것을 해결하기 위해서는 어떤 방법이 있는지를 성찰한다. \n",
              "또한 인간 불평등이 인간에서 불행을 가져왔음을 주장하고 그것이 소유와 권력 때문이라고 한다. \n",
              "인간의 불행에 대한 200년 전 루소의 선구자적 이야기를 들어보자.</description></item><item><title>블루 록 : Episode 나기 1</title><link>https://search.shopping.naver.com/book/catalog/48937411620</link><image>https://shopping-phinf.pstatic.net/main_4893741/48937411620.20240705124004.jpg</image><author/><discount>5350</discount><publisher>학산문화사</publisher><pubdate>20240716</pubdate><isbn>9791141138363</isbn><description>기다리고 기다리던 〈블루 록〉 스핀오프, 등장!  &amp; 2024년 8월 극장판 개봉 예정!\n",
              "\n",
              "〈블루 록〉 팬들의 사랑을 받는 천재, 나기 세이시로와 그의 파트너 미카게 레오의 과거부터 현재까지의 다양한 에피소드를 그려낸 작품이다. 기존의 블루 록 팬들은 물론이고 \n",
              "〈에피소드 나기〉를 통해 '블루 록'의 세계관을 처음 접하는 독자들도 무리없이 재미를 느낄 수 있는 매력적인 작품이다.</description></item><item><title>타요 긴급출동 스티커북</title><link>https://search.shopping.naver.com/book/catalog/36177337633</link><image>https://shopping-phinf.pstatic.net/main_3617733/36177337633.20230516165835.jpg</image><author>키즈아이콘 편집부</author><discount>5130</discount><publisher>키즈아이콘</publisher><pubdate>20221129</pubdate><isbn>9788964137024</isbn><description>긴급 출동 탈것 캐릭터 총 출동! \n",
              "다양한 긴급 출동 탈것 캐릭터 스티커를 붙여 도시 곳곳에 발생한 다양한 사건을 해결해 보아요.\n",
              "\n",
              "긴급 출동 탈것 지식이 쑥쑥!\n",
              "생생한 탈것 사진 스티커와 다양한 도구, 의상 스티커를 붙이며 긴급 출동 탈것 관련 지식을 길러요.\n",
              "\n",
              "탐구 활동을 통해 인지 능력 쑥쑥!\n",
              "줄 긋기, 미로 찾기, 숨은 그림 찾기 등 다양한 탐구 활동을 통해 소방차, 경찰차, 구급차가 출동하는 상황에 대한 인지 능력을 길러요.</description></item></channel></rss>"
            ]
          },
          "metadata": {},
          "execution_count": 76
        }
      ]
    }
  ]
}