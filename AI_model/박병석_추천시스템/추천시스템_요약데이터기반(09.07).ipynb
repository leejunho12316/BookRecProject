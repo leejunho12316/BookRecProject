{
 "cells": [
  {
   "cell_type": "code",
   "execution_count": 1,
   "id": "c46120ac",
   "metadata": {},
   "outputs": [
    {
     "name": "stderr",
     "output_type": "stream",
     "text": [
      "C:\\Users\\user\\AppData\\Roaming\\Python\\Python39\\site-packages\\pandas\\core\\computation\\expressions.py:21: UserWarning: Pandas requires version '2.8.4' or newer of 'numexpr' (version '2.8.3' currently installed).\n",
      "  from pandas.core.computation.check import NUMEXPR_INSTALLED\n",
      "C:\\Users\\user\\AppData\\Roaming\\Python\\Python39\\site-packages\\pandas\\core\\arrays\\masked.py:60: UserWarning: Pandas requires version '1.3.6' or newer of 'bottleneck' (version '1.3.5' currently installed).\n",
      "  from pandas.core import (\n"
     ]
    }
   ],
   "source": [
    "from konlpy.tag import Okt\n",
    "import pandas as pd\n",
    "from sklearn.feature_extraction.text import TfidfVectorizer\n",
    "from sklearn.metrics.pairwise import cosine_similarity\n",
    "\n",
    "data = pd.read_csv(r\"C:\\Users\\user\\Desktop\\졸업 프로젝트\\인공지능(데이터,모델)\\추천단어_중복제거(요약기반).csv\", encoding = \"cp949\")"
   ]
  },
  {
   "cell_type": "code",
   "execution_count": 2,
   "id": "1daf8304",
   "metadata": {},
   "outputs": [
    {
     "data": {
      "text/html": [
       "<div>\n",
       "<style scoped>\n",
       "    .dataframe tbody tr th:only-of-type {\n",
       "        vertical-align: middle;\n",
       "    }\n",
       "\n",
       "    .dataframe tbody tr th {\n",
       "        vertical-align: top;\n",
       "    }\n",
       "\n",
       "    .dataframe thead th {\n",
       "        text-align: right;\n",
       "    }\n",
       "</style>\n",
       "<table border=\"1\" class=\"dataframe\">\n",
       "  <thead>\n",
       "    <tr style=\"text-align: right;\">\n",
       "      <th></th>\n",
       "      <th>책 이름</th>\n",
       "      <th>작가</th>\n",
       "      <th>장르</th>\n",
       "      <th>ISBN</th>\n",
       "      <th>책 소개</th>\n",
       "      <th>추천단어</th>\n",
       "      <th>nouns</th>\n",
       "    </tr>\n",
       "  </thead>\n",
       "  <tbody>\n",
       "    <tr>\n",
       "      <th>0</th>\n",
       "      <td>모순</td>\n",
       "      <td>양귀자</td>\n",
       "      <td>국내도서\\n &gt; \\n소설\\n &gt; \\n한국소설\\n &gt; \\n한국소설일반</td>\n",
       "      <td>9.790000e+12</td>\n",
       "      <td>※본 도서의 표지 색상은 2쇄를 주기로 변경됩니다. 등록된 이미지와 다른 색의 표지...</td>\n",
       "      <td>NaN</td>\n",
       "      <td>소설,인생,모순,양귀자,탐구,사람,이야기,베스트셀러,계기,일상,미혼여성,마련,에피소...</td>\n",
       "    </tr>\n",
       "    <tr>\n",
       "      <th>1</th>\n",
       "      <td>죽이고 싶은 아이 2</td>\n",
       "      <td>이꽃님</td>\n",
       "      <td>국내도서\\n &gt; \\n청소년\\n &gt; \\n청소년 소설\\n &gt; \\n한국</td>\n",
       "      <td>9.790000e+12</td>\n",
       "      <td>“이 이야기를 쓰지 않고서는 다른 작품을 쓰기 어렵겠다고 생각했다.”한국 청소년 문...</td>\n",
       "      <td>NaN</td>\n",
       "      <td>압도,단숨,산산조각,꽃님,전개,희망,믿음,몰입,절망,이야기,독자,진실,청소년</td>\n",
       "    </tr>\n",
       "    <tr>\n",
       "      <th>2</th>\n",
       "      <td>우리에게 남은 시간 46일</td>\n",
       "      <td>이설</td>\n",
       "      <td>국내도서\\n &gt; \\n소설\\n &gt; \\n한국소설\\n &gt; \\n한국소설일반</td>\n",
       "      <td>9.790000e+12</td>\n",
       "      <td>〈우리에게 남은 시간이 46일〉 이 소설은 시한부인 해인의 곁에서 슬퍼하며, 끝까지...</td>\n",
       "      <td>NaN</td>\n",
       "      <td>우현,인상,사랑,작품,이야기</td>\n",
       "    </tr>\n",
       "    <tr>\n",
       "      <th>3</th>\n",
       "      <td>홍학의 자리</td>\n",
       "      <td>정해연</td>\n",
       "      <td>국내도서\\n &gt; \\n소설\\n &gt; \\n한국소설\\n &gt; \\n미스터리/스릴러소설</td>\n",
       "      <td>9.790000e+12</td>\n",
       "      <td>“이 행복이 영원할 거라고 생각한 적은 없었다.그러나 이런 끝을 상상한 적도 없었다...</td>\n",
       "      <td>NaN</td>\n",
       "      <td>매력,홍학,정해,만큼,작가,이야기,가시,곧바로,스릴러,신작,설정,전개,거기,최고,높...</td>\n",
       "    </tr>\n",
       "    <tr>\n",
       "      <th>4</th>\n",
       "      <td>죽이고 싶은 아이</td>\n",
       "      <td>이꽃님</td>\n",
       "      <td>국내도서\\n &gt; \\n청소년\\n &gt; \\n청소년 소설\\n &gt; \\n한국</td>\n",
       "      <td>9.790000e+12</td>\n",
       "      <td>『세계를 건너 너에게 갈게』 작가 이꽃님 신작“팩트는 중요하지 않아. 사람들이 믿는...</td>\n",
       "      <td>NaN</td>\n",
       "      <td>선사,여고생,작가,이야기,진실,보고,예측,전개,혼란,야만,독자,소비,경고,사람,믿음...</td>\n",
       "    </tr>\n",
       "  </tbody>\n",
       "</table>\n",
       "</div>"
      ],
      "text/plain": [
       "             책 이름   작가                                         장르  \\\n",
       "0              모순  양귀자      국내도서\\n > \\n소설\\n > \\n한국소설\\n > \\n한국소설일반   \n",
       "1     죽이고 싶은 아이 2  이꽃님       국내도서\\n > \\n청소년\\n > \\n청소년 소설\\n > \\n한국   \n",
       "2  우리에게 남은 시간 46일   이설      국내도서\\n > \\n소설\\n > \\n한국소설\\n > \\n한국소설일반   \n",
       "3          홍학의 자리  정해연  국내도서\\n > \\n소설\\n > \\n한국소설\\n > \\n미스터리/스릴러소설   \n",
       "4       죽이고 싶은 아이  이꽃님       국내도서\\n > \\n청소년\\n > \\n청소년 소설\\n > \\n한국   \n",
       "\n",
       "           ISBN                                               책 소개  추천단어  \\\n",
       "0  9.790000e+12  ※본 도서의 표지 색상은 2쇄를 주기로 변경됩니다. 등록된 이미지와 다른 색의 표지...   NaN   \n",
       "1  9.790000e+12  “이 이야기를 쓰지 않고서는 다른 작품을 쓰기 어렵겠다고 생각했다.”한국 청소년 문...   NaN   \n",
       "2  9.790000e+12  〈우리에게 남은 시간이 46일〉 이 소설은 시한부인 해인의 곁에서 슬퍼하며, 끝까지...   NaN   \n",
       "3  9.790000e+12  “이 행복이 영원할 거라고 생각한 적은 없었다.그러나 이런 끝을 상상한 적도 없었다...   NaN   \n",
       "4  9.790000e+12  『세계를 건너 너에게 갈게』 작가 이꽃님 신작“팩트는 중요하지 않아. 사람들이 믿는...   NaN   \n",
       "\n",
       "                                               nouns  \n",
       "0  소설,인생,모순,양귀자,탐구,사람,이야기,베스트셀러,계기,일상,미혼여성,마련,에피소...  \n",
       "1         압도,단숨,산산조각,꽃님,전개,희망,믿음,몰입,절망,이야기,독자,진실,청소년  \n",
       "2                                    우현,인상,사랑,작품,이야기  \n",
       "3  매력,홍학,정해,만큼,작가,이야기,가시,곧바로,스릴러,신작,설정,전개,거기,최고,높...  \n",
       "4  선사,여고생,작가,이야기,진실,보고,예측,전개,혼란,야만,독자,소비,경고,사람,믿음...  "
      ]
     },
     "execution_count": 2,
     "metadata": {},
     "output_type": "execute_result"
    }
   ],
   "source": [
    "#예시\n",
    "data.head()"
   ]
  },
  {
   "cell_type": "code",
   "execution_count": 3,
   "id": "41eec890",
   "metadata": {},
   "outputs": [
    {
     "name": "stdout",
     "output_type": "stream",
     "text": [
      "핵심 단어: 소설,인생,모순,양귀자,탐구,사람,이야기,베스트셀러,계기,일상,미혼여성,마련,에피소드,스물,작품\n",
      "<class 'str'>\n",
      "\n",
      "제목: 모순\n",
      "<class 'str'>\n"
     ]
    }
   ],
   "source": [
    "#데이터 확인\n",
    "print(f\"핵심 단어: {data.iloc[0,6]}\")\n",
    "\n",
    "print(type(data.iloc[0,6]))\n",
    "\n",
    "print(\"\")\n",
    "\n",
    "print(f\"제목: {data.iloc[0,0]}\")\n",
    "\n",
    "print(type(data.iloc[0,0]))"
   ]
  },
  {
   "cell_type": "code",
   "execution_count": 4,
   "id": "821ca9ae",
   "metadata": {},
   "outputs": [
    {
     "name": "stdout",
     "output_type": "stream",
     "text": [
      "['연애', '맛', '은', '현대', '연애', '감정', '현실', '책', '저자', '연애', '시작', '끝', '그', '사이', '수', '감정', '이', '책', '매력', '일상', '상황', '속', '감정', '이해', '공감', '수', '만', '점', '주인공', '연애', '경험', '로맨스', '사랑', '관계', '본질', '대해', '고민', '만듭니', '각', '장마', '연애', '문제', '그', '대한', '성찰', '내내', '연애', '대한', '나', '생각', '감정', '다시', '번', '이', '책', '나', '과거', '연애', '현재', '관계', '앞', '연애', '대한', '시각', '사랑', '주제', '책', '중', '이처럼', '깊이', '감동', '내용', '치', '것', '연애', '사랑', '대해', '생각', '모든', '이', '추천']\n"
     ]
    }
   ],
   "source": [
    "user_data = \"《연애의 맛》은 현대 연애의 복잡하고 미묘한 감정을 현실적으로 풀어낸 책입니다. 저자는 연애의 시작부터 끝까지, 그리고 그 사이에 겪을 수 있는 다양한 감정을 진솔하게 그려냅니다. 특히, 이 책의 매력은 일상적인 상황 속에서도 깊은 감정을 이해하고 공감할 수 있게 만들어준다는 점입니다.주인공의 연애 경험은 단순히 로맨스에 그치지 않고, 사랑과 관계의 본질에 대해 고민하게 만듭니다. 각 장마다 연애에서 마주치는 문제와 그에 대한 성찰이 담겨 있어, 읽는 내내 연애에 대한 나만의 생각과 감정을 다시 한 번 돌아보게 됩니다.이 책을 읽으면서 나는 과거의 연애를 돌아보고, 현재의 관계를 돌아보게 되었으며, 앞으로의 연애에 대한 새로운 시각을 얻게 되었습니다. 사랑이라는 주제를 다룬 책 중에서도 이처럼 깊이 있고 감동적인 내용은 흔치 않은 것 같습니다. 연애와 사랑에 대해 생각해보고 싶은 모든 이들에게 추천합니다\"\n",
    "\n",
    "okt = Okt()\n",
    "\n",
    "user_word = okt.nouns(user_data)\n",
    "\n",
    "print(user_word)"
   ]
  },
  {
   "cell_type": "code",
   "execution_count": 5,
   "id": "dabea4b2",
   "metadata": {},
   "outputs": [
    {
     "name": "stdout",
     "output_type": "stream",
     "text": [
      "['연애', '맛', '은', '현대', '연애', '감정', '현실', '책', '저자', '연애', '시작', '끝', '사이', '수', '감정', '책', '매력', '일상', '상황', '속', '감정', '이해', '공감', '수', '만', '점', '주인공', '연애', '경험', '로맨스', '사랑', '관계', '본질', '대해', '고민', '만듭니', '장마', '연애', '문제', '대한', '성찰', '연애', '대한', '생각', '감정', '번', '책', '과거', '연애', '현재', '관계', '앞', '연애', '대한', '사랑', '주제', '책', '중', '이처럼', '깊이', '감동', '내용', '치', '연애', '사랑', '대해', '생각', '추천']\n"
     ]
    }
   ],
   "source": [
    "#한국어 불용어 제거 txt 가져오기\n",
    "\n",
    "stop_word_path = r\"C:\\Users\\user\\Desktop\\졸업 프로젝트\\인공지능(데이터,모델)\\stopword.txt\"\n",
    "with open(stop_word_path, \"r\", encoding='utf-8') as file:\n",
    "    stop_words = file.read().splitlines()\n",
    "\n",
    "#불용어 제거 함수\n",
    "def remove_stop_words(list, stop_words):\n",
    "    \n",
    "    return [word for word in list if word not in stop_words]\n",
    "\n",
    "final_word = remove_stop_words(user_word, stop_words)\n",
    "\n",
    "print(final_word)"
   ]
  },
  {
   "cell_type": "code",
   "execution_count": 6,
   "id": "07c37bca",
   "metadata": {},
   "outputs": [
    {
     "name": "stdout",
     "output_type": "stream",
     "text": [
      "user_reviews 결과 : 사랑,문제,이해,현대,저자,장마,관계,일상,감정,감동,매력,생각,경험,과거,깊이,주인공,고민,본질,로맨스,추천,현재,현실,시작,사이,만듭니,공감,성찰,상황,주제,내용,이처럼,대해,대한,연애\n"
     ]
    }
   ],
   "source": [
    "#1글자 및 중복(set 집합을 통한) 단어 제거\n",
    "final_word_set = set(noun for noun in final_word if len(noun) > 1)   \n",
    "\n",
    "user_reviews = str(\",\".join(final_word_set))\n",
    "print(f\"user_reviews 결과 : {user_reviews}\")"
   ]
  },
  {
   "cell_type": "code",
   "execution_count": 7,
   "id": "33917a03",
   "metadata": {},
   "outputs": [],
   "source": [
    "# 'nouns' 열에서 명사 목록 가져오기\n",
    "noun_list = data['nouns'].fillna('')  # 결측값이 있을 경우 빈 문자열로 대체\n",
    "titles = data['책 이름'].fillna('')"
   ]
  },
  {
   "cell_type": "code",
   "execution_count": 8,
   "id": "cb192d39",
   "metadata": {},
   "outputs": [],
   "source": [
    "# TF-IDF 벡터화\n",
    "vectorizer = TfidfVectorizer()\n",
    "noun_list_str = noun_list.apply(lambda x: ' '.join(x.split(',')))\n",
    "tfidf_matrix_nouns = vectorizer.fit_transform(noun_list_str)"
   ]
  },
  {
   "cell_type": "code",
   "execution_count": 9,
   "id": "230a5260",
   "metadata": {},
   "outputs": [
    {
     "name": "stdout",
     "output_type": "stream",
     "text": [
      "tfidf_matrix_nouns 크기: (210, 2481)\n",
      "tfidf_matrix_reviews 크기: (1, 2481)\n"
     ]
    }
   ],
   "source": [
    "tfidf_matrix_reviews = vectorizer.transform([user_reviews])\n",
    "\n",
    "# TF-IDF 벡터의 크기 확인\n",
    "print(\"tfidf_matrix_nouns 크기:\", tfidf_matrix_nouns.shape)\n",
    "print(\"tfidf_matrix_reviews 크기:\", tfidf_matrix_reviews.shape)\n"
   ]
  },
  {
   "cell_type": "code",
   "execution_count": 10,
   "id": "a3e252dc",
   "metadata": {},
   "outputs": [],
   "source": [
    "# 코사인 유사도 계산\n",
    "cos_sim = cosine_similarity(tfidf_matrix_reviews, tfidf_matrix_nouns).flatten()"
   ]
  },
  {
   "cell_type": "code",
   "execution_count": 11,
   "id": "199b0e9d",
   "metadata": {},
   "outputs": [],
   "source": [
    "# 유사도와 인덱스를 결합하여 정렬\n",
    "similar_indices = cos_sim.argsort()[-10:][::-1]  # 상위 10개의 인덱스\n",
    "top_similarities = cos_sim[similar_indices]  # 상위 10개의 유사도"
   ]
  },
  {
   "cell_type": "code",
   "execution_count": 12,
   "id": "cadc4bdb",
   "metadata": {},
   "outputs": [
    {
     "name": "stdout",
     "output_type": "stream",
     "text": [
      "유사도 배열의 크기: 210\n",
      "상위 10개 인덱스: [ 34  78 148 141  13  82 104  83 125 150]\n",
      "책 제목 목록의 길이: 210\n",
      "가장 유사한 데이터 10개:\n",
      "순위 1:\n",
      "제목: 왜 나는 너를 사랑하는가(70만 부 기념 리커버)\n",
      "코사인 유사도: 0.21541536000161204\n",
      "\n",
      "순위 2:\n",
      "제목: 개구리\n",
      "코사인 유사도: 0.1911043902044041\n",
      "\n",
      "순위 3:\n",
      "제목: 안데르센, 잔혹동화 속 문장의 기억(Andersen, Memory of Sentences)\n",
      "코사인 유사도: 0.13743944399328153\n",
      "\n",
      "순위 4:\n",
      "제목: 아침 그리고 저녁\n",
      "코사인 유사도: 0.12846965958288625\n",
      "\n",
      "순위 5:\n",
      "제목: 탕비실\n",
      "코사인 유사도: 0.12749685190827095\n",
      "\n",
      "순위 6:\n",
      "제목: 이반 일리치의 죽음(러시아어 원전 번역본)\n",
      "코사인 유사도: 0.12676136173004426\n",
      "\n",
      "순위 7:\n",
      "제목: 브람스를 좋아하세요\n",
      "코사인 유사도: 0.12281093346627905\n",
      "\n",
      "순위 8:\n",
      "제목: 이반 일리치의 죽음\n",
      "코사인 유사도: 0.11579579369967628\n",
      "\n",
      "순위 9:\n",
      "제목: 모모(출간 50주년 기념 개정판)\n",
      "코사인 유사도: 0.1123638511291573\n",
      "\n",
      "순위 10:\n",
      "제목: 굶주림\n",
      "코사인 유사도: 0.11076234581386946\n",
      "\n"
     ]
    }
   ],
   "source": [
    "# 유사도 배열과 인덱스 확인\n",
    "print(\"유사도 배열의 크기:\", len(cos_sim))\n",
    "print(\"상위 10개 인덱스:\", similar_indices)\n",
    "print(\"책 제목 목록의 길이:\", len(titles))\n",
    "\n",
    "print(\"가장 유사한 데이터 10개:\")\n",
    "for i, sim_idx in enumerate(similar_indices):\n",
    "    if sim_idx < len(titles):  # 인덱스가 유효한지 확인\n",
    "        print(f\"순위 {i + 1}:\")\n",
    "        print(f\"제목: {titles.iloc[sim_idx]}\")\n",
    "        print(f\"코사인 유사도: {top_similarities[i]}\")\n",
    "        print()\n",
    "    else:\n",
    "        print(f\"순위 {i + 1}: 인덱스 오류 - 제목을 찾을 수 없음\")"
   ]
  },
  {
   "cell_type": "code",
   "execution_count": null,
   "id": "dadd9d07",
   "metadata": {},
   "outputs": [],
   "source": []
  },
  {
   "cell_type": "code",
   "execution_count": null,
   "id": "177e12b9",
   "metadata": {},
   "outputs": [],
   "source": []
  }
 ],
 "metadata": {
  "kernelspec": {
   "display_name": "Python 3 (ipykernel)",
   "language": "python",
   "name": "python3"
  },
  "language_info": {
   "codemirror_mode": {
    "name": "ipython",
    "version": 3
   },
   "file_extension": ".py",
   "mimetype": "text/x-python",
   "name": "python",
   "nbconvert_exporter": "python",
   "pygments_lexer": "ipython3",
   "version": "3.11.9"
  }
 },
 "nbformat": 4,
 "nbformat_minor": 5
}
